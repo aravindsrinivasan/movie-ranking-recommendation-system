{
 "cells": [
  {
   "cell_type": "markdown",
   "metadata": {},
   "source": [
    "## Data Exploration: Budget and Revenue vs. Rating"
   ]
  },
  {
   "cell_type": "markdown",
   "metadata": {
    "collapsed": true
   },
   "source": [
    "<b>Import dataset:</b>"
   ]
  },
  {
   "cell_type": "code",
   "execution_count": 2,
   "metadata": {},
   "outputs": [
    {
     "name": "stderr",
     "output_type": "stream",
     "text": [
      "C:\\Users\\gopika\\Anaconda3\\lib\\site-packages\\IPython\\core\\interactiveshell.py:2717: DtypeWarning: Columns (10) have mixed types. Specify dtype option on import or set low_memory=False.\n",
      "  interactivity=interactivity, compiler=compiler, result=result)\n"
     ]
    }
   ],
   "source": [
    "import pandas as pd\n",
    "\n",
    "# Read the metadata and ratings\n",
    "dfMetaData = pd.read_csv('../data/movies_metadata.csv')\n",
    "dfRatings = pd.read_csv(\"../data/ratings.csv\")"
   ]
  },
  {
   "cell_type": "markdown",
   "metadata": {
    "collapsed": true
   },
   "source": [
    "<b>Connection between budget and average rating:</b>"
   ]
  },
  {
   "cell_type": "code",
   "execution_count": 8,
   "metadata": {},
   "outputs": [
    {
     "data": {
      "image/png": "[encoded data removed]",
      "text/plain": [
       "<matplotlib.figure.Figure at 0x1841d8a2eb8>"
      ]
     },
     "metadata": {},
     "output_type": "display_data"
    }
   ],
   "source": [
    "import matplotlib.pylab as plt\n",
    "%matplotlib inline\n",
    "\n",
    "# Merge the budget with the ratings\n",
    "dfRatings.rename(columns={'movieId': 'id'}, inplace=True)\n",
    "# Average the user ratings for each movie\n",
    "dfRatings.groupby('id').mean()\n",
    "budget = pd.DataFrame(dfMetaData[['id','budget']])\n",
    "budget['id'] = budget['id'].astype(str)\n",
    "dfRatings['id'] = dfRatings['id'].astype(str)\n",
    "mergedRatings = dfRatings.merge(budget,on='id',how='left')\n",
    "\n",
    "# Plot the values\n",
    "plt.scatter(mergedRatings['budget'].values,mergedRatings['rating'].values)\n",
    "plt.xlabel('Budget')\n",
    "plt.ylabel('Rating')\n",
    "plt.show()"
   ]
  },
  {
   "cell_type": "markdown",
   "metadata": {
    "collapsed": true
   },
   "source": [
    "<b>Connection between revenue and average rating:</b>"
   ]
  },
  {
   "cell_type": "code",
   "execution_count": 9,
   "metadata": {},
   "outputs": [
    {
     "data": {
      "image/png": "[encoded data removed]",
      "text/plain": [
       "<matplotlib.figure.Figure at 0x1841d8fb048>"
      ]
     },
     "metadata": {},
     "output_type": "display_data"
    }
   ],
   "source": [
    "revenue = pd.DataFrame(dfMetaData[['id','revenue']])\n",
    "revenue['id'] = revenue['id'].astype(str)\n",
    "mergedRatings = dfRatings.merge(revenue,on='id',how='left')\n",
    "\n",
    "# Plot the values\n",
    "plt.scatter(mergedRatings['revenue'].values,mergedRatings['rating'].values)\n",
    "plt.xlabel('Revenue')\n",
    "plt.ylabel('Rating')\n",
    "plt.show()"
   ]
  }
 ],
 "metadata": {
  "kernelspec": {
   "display_name": "Python 3",
   "language": "python",
   "name": "python3"
  },
  "language_info": {
   "codemirror_mode": {
    "name": "ipython",
    "version": 3
   },
   "file_extension": ".py",
   "mimetype": "text/x-python",
   "name": "python",
   "nbconvert_exporter": "python",
   "pygments_lexer": "ipython3",
   "version": "3.6.1"
  }
 },
 "nbformat": 4,
 "nbformat_minor": 2
}
