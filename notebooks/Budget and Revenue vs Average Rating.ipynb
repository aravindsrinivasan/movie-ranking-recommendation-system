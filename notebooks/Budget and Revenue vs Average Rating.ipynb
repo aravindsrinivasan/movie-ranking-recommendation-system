{
 "cells": [
  {
   "cell_type": "markdown",
   "metadata": {},
   "source": [
    "## Data Exploration: Budget and Revenue vs. Average Rating"
   ]
  },
  {
   "cell_type": "markdown",
   "metadata": {
    "collapsed": true
   },
   "source": [
    "<b>Import dataset:</b>"
   ]
  },
  {
   "cell_type": "code",
   "execution_count": 3,
   "metadata": {},
   "outputs": [],
   "source": [
    "import pandas as pd\n",
    "\n",
    "dfMetaData = pd.read_csv(\"../data/movies_metadata.csv\", sep=',', error_bad_lines=False, index_col=False, dtype='unicode')\n",
    "budgets = dfMetaData['budget']\n",
    "revenues = dfMetaData['revenue']\n",
    "\n",
    "dfRatings = pd.read_csv(\"../data/ratings_small.csv\", dtype ={\"userId\": int, \"movieId\": int, \"rating\": float, \"timestamp\": int})"
   ]
  },
  {
   "cell_type": "code",
   "execution_count": null,
   "metadata": {
    "collapsed": true
   },
   "outputs": [],
   "source": []
  }
 ],
 "metadata": {
  "kernelspec": {
   "display_name": "Python 3",
   "language": "python",
   "name": "python3"
  },
  "language_info": {
   "codemirror_mode": {
    "name": "ipython",
    "version": 3
   },
   "file_extension": ".py",
   "mimetype": "text/x-python",
   "name": "python",
   "nbconvert_exporter": "python",
   "pygments_lexer": "ipython3",
   "version": "3.6.1"
  }
 },
 "nbformat": 4,
 "nbformat_minor": 2
}
