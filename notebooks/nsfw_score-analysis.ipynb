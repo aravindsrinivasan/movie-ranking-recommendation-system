{
 "cells": [
  {
   "cell_type": "code",
   "execution_count": 37,
   "metadata": {
    "collapsed": true
   },
   "outputs": [],
   "source": [
    "import os\n",
    "import numpy as np\n",
    "import pandas as pd\n",
    "import matplotlib\n",
    "import matplotlib.pyplot as plt\n",
    "import seaborn as sns\n",
    "from scipy.stats import skew \n",
    "\n",
    "\n",
    "%matplotlib inline\n",
    "matplotlib.rcParams['figure.figsize'] = (12.0, 6.0)"
   ]
  },
  {
   "cell_type": "code",
   "execution_count": 4,
   "metadata": {},
   "outputs": [
    {
     "name": "stdout",
     "output_type": "stream",
     "text": [
      "/Users/aravind/movie-ranking-recommendation-system/notebooks/../data\n"
     ]
    }
   ],
   "source": [
    "SCRIPT_DIR = os.getcwd()\n",
    "DATA_DIR = os.path.join(SCRIPT_DIR, '..', 'data')\n",
    "print DATA_DIR"
   ]
  },
  {
   "cell_type": "code",
   "execution_count": 5,
   "metadata": {},
   "outputs": [
    {
     "name": "stdout",
     "output_type": "stream",
     "text": [
      "(45466, 24)\n",
      "(45047, 2)\n"
     ]
    },
    {
     "name": "stderr",
     "output_type": "stream",
     "text": [
      "/Users/aravind/anaconda/lib/python2.7/site-packages/IPython/core/interactiveshell.py:2717: DtypeWarning: Columns (10) have mixed types. Specify dtype option on import or set low_memory=False.\n",
      "  interactivity=interactivity, compiler=compiler, result=result)\n"
     ]
    }
   ],
   "source": [
    "meta_data = pd.read_csv(DATA_DIR + '/movies_metadata.csv')\n",
    "nsfw_data = pd.read_csv(DATA_DIR + '/nsfw_score.csv')\n",
    "print meta_data.shape\n",
    "print nsfw_data.shape"
   ]
  },
  {
   "cell_type": "code",
   "execution_count": 6,
   "metadata": {},
   "outputs": [
    {
     "name": "stderr",
     "output_type": "stream",
     "text": [
      "/Users/aravind/anaconda/lib/python2.7/site-packages/ipykernel_launcher.py:8: SettingWithCopyWarning: \n",
      "A value is trying to be set on a copy of a slice from a DataFrame.\n",
      "Try using .loc[row_indexer,col_indexer] = value instead\n",
      "\n",
      "See the caveats in the documentation: http://pandas.pydata.org/pandas-docs/stable/indexing.html#indexing-view-versus-copy\n",
      "  \n"
     ]
    }
   ],
   "source": [
    "#Changing the column name\n",
    "nsfw_data.columns = ['id', 'nsfw_score']\n",
    "\n",
    "#Only using relevant data from the main csv\n",
    "meta_data_subset = meta_data[['title', 'budget', 'id', 'original_language', 'popularity', 'revenue', 'vote_average', 'vote_count']]\n",
    "\n",
    "#Converting both fields to the same data type\n",
    "meta_data_subset['id'] = meta_data_subset['id'].astype(str)\n",
    "nsfw_data['id'] = nsfw_data['id'].astype(str)"
   ]
  },
  {
   "cell_type": "code",
   "execution_count": 28,
   "metadata": {
    "collapsed": true
   },
   "outputs": [],
   "source": [
    "#merging the two dataframes\n",
    "df = meta_data_subset.merge(nsfw_data, on='id', how='left')"
   ]
  },
  {
   "cell_type": "code",
   "execution_count": 29,
   "metadata": {},
   "outputs": [
    {
     "data": {
      "image/png": "[encoded data removed]",
      "text/plain": [
       "<matplotlib.figure.Figure at 0x119f70d10>"
      ]
     },
     "metadata": {},
     "output_type": "display_data"
    }
   ],
   "source": [
    "#Looking for missing values\n",
    "df_na = (df.isnull().sum() / len(df)) * 100\n",
    "df_na = df_na.drop(df_na[df_na == 0].index).sort_values(ascending=False)[:5]\n",
    "missing_data = pd.DataFrame({'Missing Ratio' :df_na})\n",
    "\n",
    "#plotting the missing data by percentages\n",
    "f, ax = plt.subplots(figsize=(15, 12))\n",
    "plt.xticks(rotation='90')\n",
    "sns.barplot(x=df_na.index, y=df_na)\n",
    "plt.xlabel('Features', fontsize=15)\n",
    "plt.ylabel('Percent of missing values', fontsize=15)\n",
    "plt.title('Percent missing data by feature', fontsize=15)\n",
    "plt.show()"
   ]
  },
  {
   "cell_type": "markdown",
   "metadata": {},
   "source": [
    "We were unable to scrape the posters for 0.9% of the data, so we could not calculate the nsfw scores for those movies. This is insignifcant considering the size of our dataset. We can drop the missing values:"
   ]
  },
  {
   "cell_type": "code",
   "execution_count": 30,
   "metadata": {},
   "outputs": [
    {
     "data": {
      "text/html": [
       "<div>\n",
       "<style>\n",
       "    .dataframe thead tr:only-child th {\n",
       "        text-align: right;\n",
       "    }\n",
       "\n",
       "    .dataframe thead th {\n",
       "        text-align: left;\n",
       "    }\n",
       "\n",
       "    .dataframe tbody tr th {\n",
       "        vertical-align: top;\n",
       "    }\n",
       "</style>\n",
       "<table border=\"1\" class=\"dataframe\">\n",
       "  <thead>\n",
       "    <tr style=\"text-align: right;\">\n",
       "      <th></th>\n",
       "      <th>title</th>\n",
       "      <th>budget</th>\n",
       "      <th>id</th>\n",
       "      <th>original_language</th>\n",
       "      <th>popularity</th>\n",
       "      <th>revenue</th>\n",
       "      <th>vote_average</th>\n",
       "      <th>vote_count</th>\n",
       "      <th>nsfw_score</th>\n",
       "    </tr>\n",
       "  </thead>\n",
       "  <tbody>\n",
       "    <tr>\n",
       "      <th>0</th>\n",
       "      <td>Toy Story</td>\n",
       "      <td>30000000</td>\n",
       "      <td>862</td>\n",
       "      <td>en</td>\n",
       "      <td>21.9469</td>\n",
       "      <td>373554033.0</td>\n",
       "      <td>7.7</td>\n",
       "      <td>5415.0</td>\n",
       "      <td>0.000582</td>\n",
       "    </tr>\n",
       "    <tr>\n",
       "      <th>1</th>\n",
       "      <td>Jumanji</td>\n",
       "      <td>65000000</td>\n",
       "      <td>8844</td>\n",
       "      <td>en</td>\n",
       "      <td>17.0155</td>\n",
       "      <td>262797249.0</td>\n",
       "      <td>6.9</td>\n",
       "      <td>2413.0</td>\n",
       "      <td>0.003873</td>\n",
       "    </tr>\n",
       "    <tr>\n",
       "      <th>2</th>\n",
       "      <td>Grumpier Old Men</td>\n",
       "      <td>0</td>\n",
       "      <td>15602</td>\n",
       "      <td>en</td>\n",
       "      <td>11.7129</td>\n",
       "      <td>0.0</td>\n",
       "      <td>6.5</td>\n",
       "      <td>92.0</td>\n",
       "      <td>0.010151</td>\n",
       "    </tr>\n",
       "    <tr>\n",
       "      <th>3</th>\n",
       "      <td>Waiting to Exhale</td>\n",
       "      <td>16000000</td>\n",
       "      <td>31357</td>\n",
       "      <td>en</td>\n",
       "      <td>3.85949</td>\n",
       "      <td>81452156.0</td>\n",
       "      <td>6.1</td>\n",
       "      <td>34.0</td>\n",
       "      <td>0.025879</td>\n",
       "    </tr>\n",
       "    <tr>\n",
       "      <th>4</th>\n",
       "      <td>Father of the Bride Part II</td>\n",
       "      <td>0</td>\n",
       "      <td>11862</td>\n",
       "      <td>en</td>\n",
       "      <td>8.38752</td>\n",
       "      <td>76578911.0</td>\n",
       "      <td>5.7</td>\n",
       "      <td>173.0</td>\n",
       "      <td>0.004546</td>\n",
       "    </tr>\n",
       "  </tbody>\n",
       "</table>\n",
       "</div>"
      ],
      "text/plain": [
       "                         title    budget     id original_language popularity  \\\n",
       "0                    Toy Story  30000000    862                en    21.9469   \n",
       "1                      Jumanji  65000000   8844                en    17.0155   \n",
       "2             Grumpier Old Men         0  15602                en    11.7129   \n",
       "3            Waiting to Exhale  16000000  31357                en    3.85949   \n",
       "4  Father of the Bride Part II         0  11862                en    8.38752   \n",
       "\n",
       "       revenue  vote_average  vote_count  nsfw_score  \n",
       "0  373554033.0           7.7      5415.0    0.000582  \n",
       "1  262797249.0           6.9      2413.0    0.003873  \n",
       "2          0.0           6.5        92.0    0.010151  \n",
       "3   81452156.0           6.1        34.0    0.025879  \n",
       "4   76578911.0           5.7       173.0    0.004546  "
      ]
     },
     "execution_count": 30,
     "metadata": {},
     "output_type": "execute_result"
    }
   ],
   "source": [
    "df.head()"
   ]
  },
  {
   "cell_type": "code",
   "execution_count": 31,
   "metadata": {},
   "outputs": [
    {
     "name": "stdout",
     "output_type": "stream",
     "text": [
      "400 rows dropped\n"
     ]
    }
   ],
   "source": [
    "#Dropping rows that have missing data\n",
    "movie_data = df.dropna(axis=0)\n",
    "print '{} rows dropped'.format(df.shape[0] - movie_data.shape[0])"
   ]
  },
  {
   "cell_type": "code",
   "execution_count": 32,
   "metadata": {},
   "outputs": [
    {
     "name": "stdout",
     "output_type": "stream",
     "text": [
      "title                 object\n",
      "budget                object\n",
      "id                    object\n",
      "original_language     object\n",
      "popularity            object\n",
      "revenue              float64\n",
      "vote_average         float64\n",
      "vote_count           float64\n",
      "nsfw_score           float64\n",
      "dtype: object\n"
     ]
    }
   ],
   "source": [
    "#checking the data type of the columns\n",
    "print movie_data.dtypes"
   ]
  },
  {
   "cell_type": "code",
   "execution_count": 121,
   "metadata": {},
   "outputs": [
    {
     "name": "stdout",
     "output_type": "stream",
     "text": [
      "title                 object\n",
      "budget                 int64\n",
      "id                    object\n",
      "original_language     object\n",
      "popularity           float64\n",
      "revenue              float64\n",
      "vote_average         float64\n",
      "vote_count           float64\n",
      "nsfw_score           float64\n",
      "dtype: object\n"
     ]
    }
   ],
   "source": [
    "#converting the data types as neccesary\n",
    "movie_data.loc[:, 'budget'] = pd.to_numeric(movie_data['budget'])\n",
    "movie_data.loc[:, 'original_language'] = movie_data.original_language.astype(str)\n",
    "movie_data.loc[:,'popularity'] = pd.to_numeric(movie_data['popularity'])\n",
    "print movie_data.dtypes"
   ]
  },
  {
   "cell_type": "code",
   "execution_count": 122,
   "metadata": {},
   "outputs": [
    {
     "name": "stdout",
     "output_type": "stream",
     "text": [
      "39685 rows dropped\n"
     ]
    }
   ],
   "source": [
    "#dropping rows with missing data\n",
    "movie_df = movie_data.replace(0,'NaN')\n",
    "movie_df = movie_df[(movie_df.revenue != 'NaN') & (movie_df.revenue != 'NaN') & (movie_df.budget != 'NaN')]\n",
    "print '{} rows dropped'.format(movie_data.shape[0] - movie_df.shape[0])\n",
    "#replacing NaNs with 0 everywhere else\n",
    "movie_df = movie_df.replace('NaN', 0)"
   ]
  },
  {
   "cell_type": "code",
   "execution_count": 123,
   "metadata": {},
   "outputs": [
    {
     "data": {
      "text/plain": [
       "title                 object\n",
       "budget                 int64\n",
       "id                    object\n",
       "original_language     object\n",
       "popularity           float64\n",
       "revenue              float64\n",
       "vote_average         float64\n",
       "vote_count           float64\n",
       "nsfw_score           float64\n",
       "dtype: object"
      ]
     },
     "execution_count": 123,
     "metadata": {},
     "output_type": "execute_result"
    }
   ],
   "source": [
    "movie_df.dtypes"
   ]
  },
  {
   "cell_type": "code",
   "execution_count": 124,
   "metadata": {},
   "outputs": [
    {
     "data": {
      "text/plain": [
       "title                 object\n",
       "budget                 int64\n",
       "id                    object\n",
       "original_language     object\n",
       "popularity           float64\n",
       "revenue              float64\n",
       "vote_average         float64\n",
       "vote_count           float64\n",
       "nsfw_score           float64\n",
       "dtype: object"
      ]
     },
     "execution_count": 124,
     "metadata": {},
     "output_type": "execute_result"
    }
   ],
   "source": [
    "#converting the data types again for some fucking reason\n",
    "movie_df.loc[:, 'budget'] = pd.to_numeric(movie_df['budget'])\n",
    "movie_df.loc[:, 'popularity'] = pd.to_numeric(movie_df['popularity'])\n",
    "movie_df.loc[:, 'revenue'] = pd.to_numeric(movie_df['revenue'])\n",
    "movie_df.loc[:, 'vote_average'] = pd.to_numeric(movie_df['vote_average'])\n",
    "movie_df.loc[:, 'vote_count'] = pd.to_numeric(movie_df['vote_count'])\n",
    "movie_df.loc[:, 'nsfw_score'] = pd.to_numeric(movie_df['nsfw_score'])\n",
    "movie_df.dtypes"
   ]
  },
  {
   "cell_type": "code",
   "execution_count": 126,
   "metadata": {},
   "outputs": [
    {
     "name": "stdout",
     "output_type": "stream",
     "text": [
      "The number of numeric features are 6\n"
     ]
    },
    {
     "data": {
      "text/html": [
       "<div>\n",
       "<style>\n",
       "    .dataframe thead tr:only-child th {\n",
       "        text-align: right;\n",
       "    }\n",
       "\n",
       "    .dataframe thead th {\n",
       "        text-align: left;\n",
       "    }\n",
       "\n",
       "    .dataframe tbody tr th {\n",
       "        vertical-align: top;\n",
       "    }\n",
       "</style>\n",
       "<table border=\"1\" class=\"dataframe\">\n",
       "  <thead>\n",
       "    <tr style=\"text-align: right;\">\n",
       "      <th></th>\n",
       "      <th>Skew</th>\n",
       "    </tr>\n",
       "  </thead>\n",
       "  <tbody>\n",
       "    <tr>\n",
       "      <th>popularity</th>\n",
       "      <td>18.467573</td>\n",
       "    </tr>\n",
       "    <tr>\n",
       "      <th>nsfw_score</th>\n",
       "      <td>4.938871</td>\n",
       "    </tr>\n",
       "    <tr>\n",
       "      <th>revenue</th>\n",
       "      <td>4.477213</td>\n",
       "    </tr>\n",
       "    <tr>\n",
       "      <th>vote_count</th>\n",
       "      <td>3.723897</td>\n",
       "    </tr>\n",
       "    <tr>\n",
       "      <th>budget</th>\n",
       "      <td>2.518972</td>\n",
       "    </tr>\n",
       "    <tr>\n",
       "      <th>vote_average</th>\n",
       "      <td>-0.860078</td>\n",
       "    </tr>\n",
       "  </tbody>\n",
       "</table>\n",
       "</div>"
      ],
      "text/plain": [
       "                   Skew\n",
       "popularity    18.467573\n",
       "nsfw_score     4.938871\n",
       "revenue        4.477213\n",
       "vote_count     3.723897\n",
       "budget         2.518972\n",
       "vote_average  -0.860078"
      ]
     },
     "execution_count": 126,
     "metadata": {},
     "output_type": "execute_result"
    }
   ],
   "source": [
    "#checking for skew\n",
    "numeric_feats = movie_df.dtypes[(movie_df.dtypes != \"object\")].index\n",
    "print 'The number of numeric features are {}'.format(numeric_feats.shape[0])\n",
    "# Check the skew of all numerical features\n",
    "skewed_feats = movie_df[numeric_feats].apply(lambda x: skew(x.dropna())).sort_values(ascending=False)\n",
    "skewness = pd.DataFrame({'Skew' :skewed_feats})\n",
    "skewness.head(30)"
   ]
  },
  {
   "cell_type": "code",
   "execution_count": 128,
   "metadata": {},
   "outputs": [
    {
     "data": {
      "text/html": [
       "<div>\n",
       "<style>\n",
       "    .dataframe thead tr:only-child th {\n",
       "        text-align: right;\n",
       "    }\n",
       "\n",
       "    .dataframe thead th {\n",
       "        text-align: left;\n",
       "    }\n",
       "\n",
       "    .dataframe tbody tr th {\n",
       "        vertical-align: top;\n",
       "    }\n",
       "</style>\n",
       "<table border=\"1\" class=\"dataframe\">\n",
       "  <thead>\n",
       "    <tr style=\"text-align: right;\">\n",
       "      <th></th>\n",
       "      <th>Skew</th>\n",
       "    </tr>\n",
       "  </thead>\n",
       "  <tbody>\n",
       "    <tr>\n",
       "      <th>popularity</th>\n",
       "      <td>18.467573</td>\n",
       "    </tr>\n",
       "    <tr>\n",
       "      <th>revenue</th>\n",
       "      <td>4.477213</td>\n",
       "    </tr>\n",
       "    <tr>\n",
       "      <th>vote_count</th>\n",
       "      <td>3.723897</td>\n",
       "    </tr>\n",
       "    <tr>\n",
       "      <th>budget</th>\n",
       "      <td>2.518972</td>\n",
       "    </tr>\n",
       "    <tr>\n",
       "      <th>nsfw_score</th>\n",
       "      <td>-0.224311</td>\n",
       "    </tr>\n",
       "    <tr>\n",
       "      <th>vote_average</th>\n",
       "      <td>-0.860078</td>\n",
       "    </tr>\n",
       "  </tbody>\n",
       "</table>\n",
       "</div>"
      ],
      "text/plain": [
       "                   Skew\n",
       "popularity    18.467573\n",
       "revenue        4.477213\n",
       "vote_count     3.723897\n",
       "budget         2.518972\n",
       "nsfw_score    -0.224311\n",
       "vote_average  -0.860078"
      ]
     },
     "execution_count": 128,
     "metadata": {},
     "output_type": "execute_result"
    }
   ],
   "source": [
    "#Using log transform on nsfw_score since it normalizes better than boxcox\n",
    "movie_df.loc[:, 'nsfw_score'] = np.log(movie_df['nsfw_score'])\n",
    "\n",
    "# Check the skew of all numerical features\n",
    "skewed_feats = movie_df[numeric_feats].apply(lambda x: skew(x.dropna())).sort_values(ascending=False)\n",
    "skewness = pd.DataFrame({'Skew' :skewed_feats})\n",
    "skewness.head(30)"
   ]
  },
  {
   "cell_type": "code",
   "execution_count": 129,
   "metadata": {},
   "outputs": [
    {
     "name": "stdout",
     "output_type": "stream",
     "text": [
      "There are 4 skewed numerical features to Box Cox transform\n"
     ]
    }
   ],
   "source": [
    "#Using Box Cox Transform to fix skewed features\n",
    "skewness = skewness[skewness['Skew'] > 0.75]\n",
    "print(\"There are {} skewed numerical features to Box Cox transform\".format(skewness.shape[0]))\n",
    "\n",
    "from scipy.special import boxcox1p\n",
    "skewed_features = skewness.index\n",
    "lam = 0.15\n",
    "for feat in skewed_features:\n",
    "    movie_df[feat] = boxcox1p(movie_df[feat], lam)"
   ]
  },
  {
   "cell_type": "code",
   "execution_count": 130,
   "metadata": {},
   "outputs": [
    {
     "data": {
      "text/html": [
       "<div>\n",
       "<style>\n",
       "    .dataframe thead tr:only-child th {\n",
       "        text-align: right;\n",
       "    }\n",
       "\n",
       "    .dataframe thead th {\n",
       "        text-align: left;\n",
       "    }\n",
       "\n",
       "    .dataframe tbody tr th {\n",
       "        vertical-align: top;\n",
       "    }\n",
       "</style>\n",
       "<table border=\"1\" class=\"dataframe\">\n",
       "  <thead>\n",
       "    <tr style=\"text-align: right;\">\n",
       "      <th></th>\n",
       "      <th>Skew</th>\n",
       "    </tr>\n",
       "  </thead>\n",
       "  <tbody>\n",
       "    <tr>\n",
       "      <th>popularity</th>\n",
       "      <td>0.234453</td>\n",
       "    </tr>\n",
       "    <tr>\n",
       "      <th>vote_count</th>\n",
       "      <td>0.234119</td>\n",
       "    </tr>\n",
       "    <tr>\n",
       "      <th>nsfw_score</th>\n",
       "      <td>-0.224311</td>\n",
       "    </tr>\n",
       "    <tr>\n",
       "      <th>revenue</th>\n",
       "      <td>-0.232498</td>\n",
       "    </tr>\n",
       "    <tr>\n",
       "      <th>budget</th>\n",
       "      <td>-0.597465</td>\n",
       "    </tr>\n",
       "    <tr>\n",
       "      <th>vote_average</th>\n",
       "      <td>-0.860078</td>\n",
       "    </tr>\n",
       "  </tbody>\n",
       "</table>\n",
       "</div>"
      ],
      "text/plain": [
       "                  Skew\n",
       "popularity    0.234453\n",
       "vote_count    0.234119\n",
       "nsfw_score   -0.224311\n",
       "revenue      -0.232498\n",
       "budget       -0.597465\n",
       "vote_average -0.860078"
      ]
     },
     "execution_count": 130,
     "metadata": {},
     "output_type": "execute_result"
    }
   ],
   "source": [
    "#Checking skew again\n",
    "skewed_feats = movie_df[numeric_feats].apply(lambda x: skew(x.dropna())).sort_values(ascending=False)\n",
    "skewness = pd.DataFrame({'Skew' :skewed_feats})\n",
    "skewness.head(30)"
   ]
  },
  {
   "cell_type": "code",
   "execution_count": 133,
   "metadata": {},
   "outputs": [
    {
     "data": {
      "image/png": "[encoded data removed]",
      "text/plain": [
       "<matplotlib.figure.Figure at 0x11a234910>"
      ]
     },
     "metadata": {},
     "output_type": "display_data"
    }
   ],
   "source": [
    "#Looking at distribtuion of NSFW Scores\n",
    "plt.hist(movie_df['budget'], bins=100)\n",
    "plt.show()"
   ]
  },
  {
   "cell_type": "markdown",
   "metadata": {},
   "source": [
    "The data is very skewed, we need to log transform it.\n"
   ]
  },
  {
   "cell_type": "code",
   "execution_count": 18,
   "metadata": {},
   "outputs": [
    {
     "data": {
      "image/png": "[encoded data removed]",
      "text/plain": [
       "<matplotlib.figure.Figure at 0x116604450>"
      ]
     },
     "metadata": {},
     "output_type": "display_data"
    }
   ],
   "source": [
    "plt.hist(np.log(movie_data['nsfw_score']), bins=100)\n",
    "plt.show()"
   ]
  },
  {
   "cell_type": "markdown",
   "metadata": {},
   "source": []
  },
  {
   "cell_type": "markdown",
   "metadata": {},
   "source": [
    "### Popularity Analysis"
   ]
  },
  {
   "cell_type": "code",
   "execution_count": 11,
   "metadata": {},
   "outputs": [
    {
     "data": {
      "image/png": "[encoded data removed]",
      "text/plain": [
       "<matplotlib.figure.Figure at 0x10b674490>"
      ]
     },
     "metadata": {},
     "output_type": "display_data"
    }
   ],
   "source": [
    "plt.scatter(movie_data['nsfw_score'], movie_data['popularity'])\n",
    "plt.title('Relationship between popularity and NSFW Score')\n",
    "plt.xlabel('NSFW Score')\n",
    "plt.ylabel('Popularity')\n",
    "plt.show()"
   ]
  },
  {
   "cell_type": "code",
   "execution_count": 102,
   "metadata": {
    "collapsed": true
   },
   "outputs": [],
   "source": [
    "movie_data.loc[:,'popularity'] = pd.to_numeric(movie_data['popularity'])"
   ]
  },
  {
   "cell_type": "code",
   "execution_count": 108,
   "metadata": {},
   "outputs": [
    {
     "data": {
      "text/html": [
       "<div>\n",
       "<style>\n",
       "    .dataframe thead tr:only-child th {\n",
       "        text-align: right;\n",
       "    }\n",
       "\n",
       "    .dataframe thead th {\n",
       "        text-align: left;\n",
       "    }\n",
       "\n",
       "    .dataframe tbody tr th {\n",
       "        vertical-align: top;\n",
       "    }\n",
       "</style>\n",
       "<table border=\"1\" class=\"dataframe\">\n",
       "  <thead>\n",
       "    <tr style=\"text-align: right;\">\n",
       "      <th></th>\n",
       "      <th>title</th>\n",
       "      <th>budget</th>\n",
       "      <th>id</th>\n",
       "      <th>original_language</th>\n",
       "      <th>popularity</th>\n",
       "      <th>revenue</th>\n",
       "      <th>vote_average</th>\n",
       "      <th>vote_count</th>\n",
       "      <th>nsfw_score</th>\n",
       "    </tr>\n",
       "  </thead>\n",
       "  <tbody>\n",
       "    <tr>\n",
       "      <th>292</th>\n",
       "      <td>Pulp Fiction</td>\n",
       "      <td>8000000</td>\n",
       "      <td>680</td>\n",
       "      <td>en</td>\n",
       "      <td>140.950236</td>\n",
       "      <td>2.139288e+08</td>\n",
       "      <td>8.3</td>\n",
       "      <td>8670.0</td>\n",
       "      <td>0.069993</td>\n",
       "    </tr>\n",
       "    <tr>\n",
       "      <th>12481</th>\n",
       "      <td>The Dark Knight</td>\n",
       "      <td>185000000</td>\n",
       "      <td>155</td>\n",
       "      <td>en</td>\n",
       "      <td>123.167259</td>\n",
       "      <td>1.004558e+09</td>\n",
       "      <td>8.3</td>\n",
       "      <td>12269.0</td>\n",
       "      <td>0.000733</td>\n",
       "    </tr>\n",
       "    <tr>\n",
       "      <th>14551</th>\n",
       "      <td>Avatar</td>\n",
       "      <td>237000000</td>\n",
       "      <td>19995</td>\n",
       "      <td>en</td>\n",
       "      <td>185.070892</td>\n",
       "      <td>2.787965e+09</td>\n",
       "      <td>7.2</td>\n",
       "      <td>12114.0</td>\n",
       "      <td>0.011014</td>\n",
       "    </tr>\n",
       "    <tr>\n",
       "      <th>23675</th>\n",
       "      <td>Gone Girl</td>\n",
       "      <td>61000000</td>\n",
       "      <td>210577</td>\n",
       "      <td>en</td>\n",
       "      <td>154.801009</td>\n",
       "      <td>3.693304e+08</td>\n",
       "      <td>7.9</td>\n",
       "      <td>6023.0</td>\n",
       "      <td>0.000646</td>\n",
       "    </tr>\n",
       "    <tr>\n",
       "      <th>24351</th>\n",
       "      <td>John Wick</td>\n",
       "      <td>20000000</td>\n",
       "      <td>245891</td>\n",
       "      <td>en</td>\n",
       "      <td>183.870374</td>\n",
       "      <td>8.876166e+07</td>\n",
       "      <td>7.0</td>\n",
       "      <td>5499.0</td>\n",
       "      <td>0.000193</td>\n",
       "    </tr>\n",
       "    <tr>\n",
       "      <th>24455</th>\n",
       "      <td>Big Hero 6</td>\n",
       "      <td>165000000</td>\n",
       "      <td>177572</td>\n",
       "      <td>en</td>\n",
       "      <td>213.849907</td>\n",
       "      <td>6.521054e+08</td>\n",
       "      <td>7.8</td>\n",
       "      <td>6289.0</td>\n",
       "      <td>0.019436</td>\n",
       "    </tr>\n",
       "    <tr>\n",
       "      <th>24873</th>\n",
       "      <td>The Hunger Games: Mockingjay - Part 1</td>\n",
       "      <td>125000000</td>\n",
       "      <td>131631</td>\n",
       "      <td>en</td>\n",
       "      <td>147.098006</td>\n",
       "      <td>7.521002e+08</td>\n",
       "      <td>6.6</td>\n",
       "      <td>5767.0</td>\n",
       "      <td>0.018422</td>\n",
       "    </tr>\n",
       "    <tr>\n",
       "      <th>26560</th>\n",
       "      <td>Pirates of the Caribbean: Dead Men Tell No Tales</td>\n",
       "      <td>230000000</td>\n",
       "      <td>166426</td>\n",
       "      <td>en</td>\n",
       "      <td>133.827820</td>\n",
       "      <td>7.941920e+08</td>\n",
       "      <td>6.6</td>\n",
       "      <td>2814.0</td>\n",
       "      <td>0.000010</td>\n",
       "    </tr>\n",
       "    <tr>\n",
       "      <th>26564</th>\n",
       "      <td>Deadpool</td>\n",
       "      <td>58000000</td>\n",
       "      <td>293660</td>\n",
       "      <td>en</td>\n",
       "      <td>187.860492</td>\n",
       "      <td>7.831130e+08</td>\n",
       "      <td>7.4</td>\n",
       "      <td>11444.0</td>\n",
       "      <td>0.200710</td>\n",
       "    </tr>\n",
       "    <tr>\n",
       "      <th>26566</th>\n",
       "      <td>Guardians of the Galaxy Vol. 2</td>\n",
       "      <td>200000000</td>\n",
       "      <td>283995</td>\n",
       "      <td>en</td>\n",
       "      <td>185.330992</td>\n",
       "      <td>8.634161e+08</td>\n",
       "      <td>7.6</td>\n",
       "      <td>4858.0</td>\n",
       "      <td>0.022276</td>\n",
       "    </tr>\n",
       "    <tr>\n",
       "      <th>26567</th>\n",
       "      <td>Captain America: Civil War</td>\n",
       "      <td>250000000</td>\n",
       "      <td>271110</td>\n",
       "      <td>en</td>\n",
       "      <td>145.882135</td>\n",
       "      <td>1.153304e+09</td>\n",
       "      <td>7.1</td>\n",
       "      <td>7462.0</td>\n",
       "      <td>0.016338</td>\n",
       "    </tr>\n",
       "    <tr>\n",
       "      <th>30700</th>\n",
       "      <td>Minions</td>\n",
       "      <td>74000000</td>\n",
       "      <td>211672</td>\n",
       "      <td>en</td>\n",
       "      <td>547.488298</td>\n",
       "      <td>1.156731e+09</td>\n",
       "      <td>6.4</td>\n",
       "      <td>4729.0</td>\n",
       "      <td>0.000299</td>\n",
       "    </tr>\n",
       "    <tr>\n",
       "      <th>33356</th>\n",
       "      <td>Wonder Woman</td>\n",
       "      <td>149000000</td>\n",
       "      <td>297762</td>\n",
       "      <td>en</td>\n",
       "      <td>294.337037</td>\n",
       "      <td>8.205804e+08</td>\n",
       "      <td>7.2</td>\n",
       "      <td>5025.0</td>\n",
       "      <td>0.016644</td>\n",
       "    </tr>\n",
       "    <tr>\n",
       "      <th>42222</th>\n",
       "      <td>Beauty and the Beast</td>\n",
       "      <td>160000000</td>\n",
       "      <td>321612</td>\n",
       "      <td>en</td>\n",
       "      <td>287.253654</td>\n",
       "      <td>1.262886e+09</td>\n",
       "      <td>6.8</td>\n",
       "      <td>5530.0</td>\n",
       "      <td>0.000752</td>\n",
       "    </tr>\n",
       "    <tr>\n",
       "      <th>43644</th>\n",
       "      <td>Baby Driver</td>\n",
       "      <td>34000000</td>\n",
       "      <td>339403</td>\n",
       "      <td>en</td>\n",
       "      <td>228.032744</td>\n",
       "      <td>2.245113e+08</td>\n",
       "      <td>7.2</td>\n",
       "      <td>2083.0</td>\n",
       "      <td>0.036894</td>\n",
       "    </tr>\n",
       "    <tr>\n",
       "      <th>44274</th>\n",
       "      <td>War for the Planet of the Apes</td>\n",
       "      <td>152000000</td>\n",
       "      <td>281338</td>\n",
       "      <td>en</td>\n",
       "      <td>146.161786</td>\n",
       "      <td>3.699080e+08</td>\n",
       "      <td>6.7</td>\n",
       "      <td>1675.0</td>\n",
       "      <td>0.000324</td>\n",
       "    </tr>\n",
       "  </tbody>\n",
       "</table>\n",
       "</div>"
      ],
      "text/plain": [
       "                                                  title     budget      id  \\\n",
       "292                                        Pulp Fiction    8000000     680   \n",
       "12481                                   The Dark Knight  185000000     155   \n",
       "14551                                            Avatar  237000000   19995   \n",
       "23675                                         Gone Girl   61000000  210577   \n",
       "24351                                         John Wick   20000000  245891   \n",
       "24455                                        Big Hero 6  165000000  177572   \n",
       "24873             The Hunger Games: Mockingjay - Part 1  125000000  131631   \n",
       "26560  Pirates of the Caribbean: Dead Men Tell No Tales  230000000  166426   \n",
       "26564                                          Deadpool   58000000  293660   \n",
       "26566                    Guardians of the Galaxy Vol. 2  200000000  283995   \n",
       "26567                        Captain America: Civil War  250000000  271110   \n",
       "30700                                           Minions   74000000  211672   \n",
       "33356                                      Wonder Woman  149000000  297762   \n",
       "42222                              Beauty and the Beast  160000000  321612   \n",
       "43644                                       Baby Driver   34000000  339403   \n",
       "44274                    War for the Planet of the Apes  152000000  281338   \n",
       "\n",
       "      original_language  popularity       revenue  vote_average  vote_count  \\\n",
       "292                  en  140.950236  2.139288e+08           8.3      8670.0   \n",
       "12481                en  123.167259  1.004558e+09           8.3     12269.0   \n",
       "14551                en  185.070892  2.787965e+09           7.2     12114.0   \n",
       "23675                en  154.801009  3.693304e+08           7.9      6023.0   \n",
       "24351                en  183.870374  8.876166e+07           7.0      5499.0   \n",
       "24455                en  213.849907  6.521054e+08           7.8      6289.0   \n",
       "24873                en  147.098006  7.521002e+08           6.6      5767.0   \n",
       "26560                en  133.827820  7.941920e+08           6.6      2814.0   \n",
       "26564                en  187.860492  7.831130e+08           7.4     11444.0   \n",
       "26566                en  185.330992  8.634161e+08           7.6      4858.0   \n",
       "26567                en  145.882135  1.153304e+09           7.1      7462.0   \n",
       "30700                en  547.488298  1.156731e+09           6.4      4729.0   \n",
       "33356                en  294.337037  8.205804e+08           7.2      5025.0   \n",
       "42222                en  287.253654  1.262886e+09           6.8      5530.0   \n",
       "43644                en  228.032744  2.245113e+08           7.2      2083.0   \n",
       "44274                en  146.161786  3.699080e+08           6.7      1675.0   \n",
       "\n",
       "       nsfw_score  \n",
       "292      0.069993  \n",
       "12481    0.000733  \n",
       "14551    0.011014  \n",
       "23675    0.000646  \n",
       "24351    0.000193  \n",
       "24455    0.019436  \n",
       "24873    0.018422  \n",
       "26560    0.000010  \n",
       "26564    0.200710  \n",
       "26566    0.022276  \n",
       "26567    0.016338  \n",
       "30700    0.000299  \n",
       "33356    0.016644  \n",
       "42222    0.000752  \n",
       "43644    0.036894  \n",
       "44274    0.000324  "
      ]
     },
     "execution_count": 108,
     "metadata": {},
     "output_type": "execute_result"
    }
   ],
   "source": [
    "movie_data[(movie_data.popularity > 100) & (movie_data.nsfw_score < 0.4)]"
   ]
  },
  {
   "cell_type": "code",
   "execution_count": 157,
   "metadata": {},
   "outputs": [
    {
     "data": {
      "image/png": "[encoded data removed]",
      "text/plain": [
       "<matplotlib.figure.Figure at 0x11cbf3f90>"
      ]
     },
     "metadata": {},
     "output_type": "display_data"
    }
   ],
   "source": [
    "#Drop revenue 0s\n",
    "plt.scatter(np.log(movie_data['nsfw_score']), movie_data['revenue'])\n",
    "plt.title('Relationship between Revenue and NSFW Score')\n",
    "plt.xlabel('NSFW Score')\n",
    "plt.ylabel('Revenue')\n",
    "plt.show()"
   ]
  },
  {
   "cell_type": "code",
   "execution_count": 124,
   "metadata": {},
   "outputs": [
    {
     "data": {
      "image/png": "[encoded data removed]",
      "text/plain": [
       "<matplotlib.figure.Figure at 0x11b3f8a90>"
      ]
     },
     "metadata": {},
     "output_type": "display_data"
    }
   ],
   "source": [
    "#Drop the budget 0s\n",
    "plt.scatter(df['nsfw_score'], df['budget'])\n",
    "plt.title('Relationship betweek Budget and NSFW Score')\n",
    "plt.xlabel('NSFW Score')\n",
    "plt.ylabel('Budget')\n",
    "plt.show()"
   ]
  },
  {
   "cell_type": "code",
   "execution_count": 158,
   "metadata": {},
   "outputs": [
    {
     "data": {
      "image/png": "[encoded data removed]",
      "text/plain": [
       "<matplotlib.figure.Figure at 0x11cceb050>"
      ]
     },
     "metadata": {},
     "output_type": "display_data"
    }
   ],
   "source": [
    "plt.scatter(np.log(movie_data['nsfw_score']), movie_data['vote_count'])\n",
    "plt.title('Relationship between Vote Count and NSFW Score')\n",
    "plt.xlabel('NSFW Score')\n",
    "plt.ylabel('Vote Count')\n",
    "plt.show()"
   ]
  },
  {
   "cell_type": "code",
   "execution_count": 151,
   "metadata": {},
   "outputs": [
    {
     "data": {
      "image/png": "[encoded data removed]",
      "text/plain": [
       "<matplotlib.figure.Figure at 0x11c417650>"
      ]
     },
     "metadata": {},
     "output_type": "display_data"
    }
   ],
   "source": [
    "plt.hist(np.log(movie_data['nsfw_score']), bins=100)\n",
    "plt.show()"
   ]
  },
  {
   "cell_type": "markdown",
   "metadata": {},
   "source": [
    "^how do we account for this?"
   ]
  },
  {
   "cell_type": "code",
   "execution_count": 147,
   "metadata": {
    "collapsed": true
   },
   "outputs": [],
   "source": [
    "data = np.log(movie_data['nsfw_score'])"
   ]
  },
  {
   "cell_type": "code",
   "execution_count": 2,
   "metadata": {},
   "outputs": [
    {
     "ename": "NameError",
     "evalue": "name 'movie_data' is not defined",
     "output_type": "error",
     "traceback": [
      "\u001b[0;31m---------------------------------------------------------------------------\u001b[0m",
      "\u001b[0;31mNameError\u001b[0m                                 Traceback (most recent call last)",
      "\u001b[0;32m<ipython-input-2-c16c868a6fc0>\u001b[0m in \u001b[0;36m<module>\u001b[0;34m()\u001b[0m\n\u001b[0;32m----> 1\u001b[0;31m \u001b[0mmovie_data\u001b[0m\u001b[0;34m[\u001b[0m\u001b[0mmovie_data\u001b[0m\u001b[0;34m.\u001b[0m\u001b[0moriginal_language\u001b[0m \u001b[0;34m==\u001b[0m \u001b[0;34m'en'\u001b[0m\u001b[0;34m]\u001b[0m\u001b[0;34m.\u001b[0m\u001b[0msum\u001b[0m\u001b[0;34m(\u001b[0m\u001b[0;34m)\u001b[0m\u001b[0;34m\u001b[0m\u001b[0m\n\u001b[0m",
      "\u001b[0;31mNameError\u001b[0m: name 'movie_data' is not defined"
     ]
    }
   ],
   "source": [
    "movie_data[movie_data.original_language == 'en'].sum()"
   ]
  },
  {
   "cell_type": "code",
   "execution_count": null,
   "metadata": {
    "collapsed": true
   },
   "outputs": [],
   "source": []
  }
 ],
 "metadata": {
  "kernelspec": {
   "display_name": "Python 2",
   "language": "python",
   "name": "python2"
  },
  "language_info": {
   "codemirror_mode": {
    "name": "ipython",
    "version": 2
   },
   "file_extension": ".py",
   "mimetype": "text/x-python",
   "name": "python",
   "nbconvert_exporter": "python",
   "pygments_lexer": "ipython2",
   "version": "2.7.13"
  }
 },
 "nbformat": 4,
 "nbformat_minor": 2
}
