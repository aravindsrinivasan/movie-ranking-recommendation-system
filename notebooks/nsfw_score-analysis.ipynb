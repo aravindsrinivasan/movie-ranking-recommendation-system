{
 "cells": [
  {
   "cell_type": "code",
   "execution_count": 15,
   "metadata": {
    "collapsed": true
   },
   "outputs": [],
   "source": [
    "import os\n",
    "import numpy as np\n",
    "import pandas as pd"
   ]
  },
  {
   "cell_type": "code",
   "execution_count": 16,
   "metadata": {},
   "outputs": [
    {
     "name": "stdout",
     "output_type": "stream",
     "text": [
      "/Users/aravind/movie-ranking-recommendation-system/notebooks/../data\n"
     ]
    }
   ],
   "source": [
    "SCRIPT_DIR = os.getcwd()\n",
    "DATA_DIR = os.path.join(SCRIPT_DIR, '..', 'data')\n",
    "print DATA_DIR"
   ]
  },
  {
   "cell_type": "code",
   "execution_count": 17,
   "metadata": {},
   "outputs": [
    {
     "name": "stdout",
     "output_type": "stream",
     "text": [
      "(45466, 24)\n",
      "(45047, 2)\n"
     ]
    }
   ],
   "source": [
    "meta_data = pd.read_csv(DATA_DIR + '/movies_metadata.csv')\n",
    "nsfw_data = pd.read_csv(DATA_DIR + '/nsfw_score.csv')\n",
    "print meta_data.shape\n",
    "print nsfw_data.shape"
   ]
  },
  {
   "cell_type": "code",
   "execution_count": 18,
   "metadata": {
    "collapsed": true
   },
   "outputs": [],
   "source": [
    "#Changing the column name\n",
    "nsfw_data.columns = ['id', 'nsfw_score']\n",
    "\n",
    "#Only using relevant data from the main csv\n",
    "meta_data_subset = meta_data[['budget', 'id', 'original_language', 'popularity', 'revenue']]\n",
    "\n",
    "#Converting both fields to the same data type\n",
    "meta_data_subset['id'] = meta_data_subset['id'].astype(str)\n",
    "nsfw_data['id'] = nsfw_data['id'].astype(str)"
   ]
  },
  {
   "cell_type": "code",
   "execution_count": 65,
   "metadata": {},
   "outputs": [],
   "source": [
    "#merging the two dataframes\n",
    "df = meta_data_subset.merge(nsfw_data, on='id', how='left')"
   ]
  }
 ],
 "metadata": {
  "kernelspec": {
   "display_name": "Python 2",
   "language": "python",
   "name": "python2"
  },
  "language_info": {
   "codemirror_mode": {
    "name": "ipython",
    "version": 2
   },
   "file_extension": ".py",
   "mimetype": "text/x-python",
   "name": "python",
   "nbconvert_exporter": "python",
   "pygments_lexer": "ipython2",
   "version": "2.7.13"
  }
 },
 "nbformat": 4,
 "nbformat_minor": 2
}
