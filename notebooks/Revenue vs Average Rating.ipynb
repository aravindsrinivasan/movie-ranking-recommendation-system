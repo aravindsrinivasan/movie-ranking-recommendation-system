{
 "cells": [
  {
   "cell_type": "markdown",
   "metadata": {},
   "source": [
    "## Data Exploration: Revenue vs. Average Rating"
   ]
  },
  {
   "cell_type": "markdown",
   "metadata": {
    "collapsed": true
   },
   "source": [
    "<b>Import dataset:</b>"
   ]
  },
  {
   "cell_type": "code",
   "execution_count": 9,
   "metadata": {
    "collapsed": true
   },
   "outputs": [],
   "source": [
    "import pandas as pd\n",
    "\n",
    "dfMetaData = pd.read_csv(\"../data/movies_metadata.csv\", sep=',', error_bad_lines=False, index_col=False, dtype='unicode')\n",
    "dfRatings = pd.read_csv(\"../data/ratings_small.csv\", dtype ={\"userId\": int, \"movieId\": int, \"rating\": float, \"timestamp\": int})"
   ]
  },
  {
   "cell_type": "markdown",
   "metadata": {
    "collapsed": true
   },
   "source": [
    "<b>Connection between budget and average rating:</b>"
   ]
  },
  {
   "cell_type": "code",
   "execution_count": 35,
   "metadata": {},
   "outputs": [
    {
     "data": {
      "image/png": "[encoded data removed]",
      "text/plain": [
       "<matplotlib.figure.Figure at 0x1cd72a513c8>"
      ]
     },
     "metadata": {},
     "output_type": "display_data"
    }
   ],
   "source": [
    "import matplotlib.pylab as plt\n",
    "%matplotlib inline\n",
    "\n",
    "# Reindex the datasets\n",
    "metadata = dfMetaData.set_index('id')\n",
    "ratings = dfRatings.set_index('movieId')\n",
    "\n",
    "# Join the two datasets \n",
    "metadata = metadata.join(ratings).reset_index()\n",
    "\n",
    "# Drop missing budget values\n",
    "metadata_bud = metadata.dropna(subset = ['rating','budget'])\n",
    "\n",
    "# Plot the values\n",
    "plt.scatter(metadata_bud['budget'].values,metadata_bud['rating'].values)\n",
    "plt.xlabel('Revenue')\n",
    "plt.ylabel('Rating')\n",
    "plt.show()"
   ]
  },
  {
   "cell_type": "code",
   "execution_count": null,
   "metadata": {
    "collapsed": true
   },
   "outputs": [],
   "source": []
  }
 ],
 "metadata": {
  "kernelspec": {
   "display_name": "Python 3",
   "language": "python",
   "name": "python3"
  },
  "language_info": {
   "codemirror_mode": {
    "name": "ipython",
    "version": 3
   },
   "file_extension": ".py",
   "mimetype": "text/x-python",
   "name": "python",
   "nbconvert_exporter": "python",
   "pygments_lexer": "ipython3",
   "version": "3.6.1"
  }
 },
 "nbformat": 4,
 "nbformat_minor": 2
}
