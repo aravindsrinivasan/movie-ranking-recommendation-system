{
 "metadata": {
  "kernelspec": {
   "display_name": "Python 3",
   "language": "python",
   "name": "python3"
  },
  "language_info": {
   "codemirror_mode": {
    "name": "ipython",
    "version": 3
   },
   "file_extension": ".py",
   "mimetype": "text/x-python",
   "name": "python",
   "nbconvert_exporter": "python",
   "pygments_lexer": "ipython3",
   "version": "3.6.1"
  },
  "name": "",
  "signature": "sha256:0a7b1e9b3b50f718cee950c96b221cdf38ab0e7f49e6fae4599cec7725ac9796"
 },
 "nbformat": 3,
 "nbformat_minor": 0,
 "worksheets": [
  {
   "cells": [
    {
     "cell_type": "code",
     "collapsed": false,
     "input": [
      "%matplotlib inline\n",
      "import pandas as pd\n",
      "import numpy as np\n",
      "import matplotlib.pyplot as plt\n",
      "import seaborn as sns\n",
      "from scipy import stats\n",
      "from ast import literal_eval\n",
      "from sklearn.feature_extraction.text import TfidfVectorizer, CountVectorizer\n",
      "from sklearn.metrics.pairwise import linear_kernel, cosine_similarity\n",
      "import matplotlib.pyplot as plt\n",
      "import seaborn as sns\n",
      "import xgboost as xgb \n",
      "from sklearn.model_selection import train_test_split, GridSearchCV\n",
      "from sklearn.metrics import accuracy_score, roc_auc_score\n",
      "from reactionrnn import reactionrnn\n",
      "import warnings; warnings.simplefilter('ignore')"
     ],
     "language": "python",
     "metadata": {},
     "outputs": [],
     "prompt_number": 148
    },
    {
     "cell_type": "heading",
     "level": 1,
     "metadata": {},
     "source": [
      "Clean Revenue and Budget"
     ]
    },
    {
     "cell_type": "code",
     "collapsed": true,
     "input": [
      "md = pd. read_csv('../data/movies_metadata.csv')\n",
      "nsfw_data = pd.read_csv('../data/nsfw_score.csv')\n",
      "credits = pd.read_csv('../data/credits.csv')\n",
      "keywords = pd.read_csv('../data/keywords.csv')\n",
      "nsfw_data.columns = ['id', 'nsfw_score']\n",
      "#Converting both fields to the same data type\n",
      "md['id'] = md['id'].astype(str)\n",
      "nsfw_data['id'] = nsfw_data['id'].astype(str)\n",
      "credits['id'] = credits['id'].astype(str)\n",
      "md = md.merge(nsfw_data, on='id', how='left')\n",
      "md = md.merge(credits, on='id', how='left')"
     ],
     "language": "python",
     "metadata": {},
     "outputs": [],
     "prompt_number": 149
    },
    {
     "cell_type": "code",
     "collapsed": true,
     "input": [
      "md = (md.drop(['budget'], axis=1)\n",
      "         .join(md['budget'].apply(pd.to_numeric, errors='coerce')))\n",
      "\n",
      "md = md[md['budget'].notnull()]"
     ],
     "language": "python",
     "metadata": {},
     "outputs": [],
     "prompt_number": 150
    },
    {
     "cell_type": "code",
     "collapsed": true,
     "input": [
      "md = md.replace(0,'NaN')\n",
      "md = md[md.budget.notnull()]\n",
      "md = md[md.budget != 'NaN']\n",
      "md.loc[:, 'budget'] = pd.to_numeric(md['budget'])\n",
      "md = md[md['budget'] != 0]\n",
      "md = md[md['revenue'].notnull()]\n",
      "md = md[md['revenue'] != 'NaN']"
     ],
     "language": "python",
     "metadata": {},
     "outputs": [],
     "prompt_number": 151
    },
    {
     "cell_type": "heading",
     "level": 1,
     "metadata": {},
     "source": [
      "Clean Genres and Production Companies"
     ]
    },
    {
     "cell_type": "code",
     "collapsed": true,
     "input": [
      "md['genres'] = md['genres'].fillna('[]').apply(literal_eval).apply(lambda x: [i['name'] for i in x] if isinstance(x, list) else [])"
     ],
     "language": "python",
     "metadata": {},
     "outputs": [],
     "prompt_number": 152
    },
    {
     "cell_type": "code",
     "collapsed": true,
     "input": [
      "md['production_companies'] = md['production_companies'].fillna('[]').apply(literal_eval).apply(lambda x: [i['name'] for i in x] if isinstance(x, list) else [])"
     ],
     "language": "python",
     "metadata": {},
     "outputs": [],
     "prompt_number": 153
    },
    {
     "cell_type": "heading",
     "level": 2,
     "metadata": {},
     "source": [
      "Add Language Features as Integer"
     ]
    },
    {
     "cell_type": "code",
     "collapsed": true,
     "input": [
      "md[\"Eng\"] = md[\"original_language\"] == 'en'\n",
      "md[\"Eng\"] = md[\"Eng\"].astype(int)"
     ],
     "language": "python",
     "metadata": {},
     "outputs": [],
     "prompt_number": 154
    },
    {
     "cell_type": "code",
     "collapsed": true,
     "input": [
      "md.belongs_to_collection[md.belongs_to_collection.notnull()] = 1\n",
      "md.belongs_to_collection[md.belongs_to_collection.isnull()] = 0"
     ],
     "language": "python",
     "metadata": {},
     "outputs": [],
     "prompt_number": 155
    },
    {
     "cell_type": "markdown",
     "metadata": {},
     "source": [
      "## Apply Reaction"
     ]
    },
    {
     "cell_type": "code",
     "collapsed": false,
     "input": [
      "react = reactionrnn()\n",
      "def applyReaction(s):\n",
      "    return react.predict(s)"
     ],
     "language": "python",
     "metadata": {},
     "outputs": [],
     "prompt_number": 156
    },
    {
     "cell_type": "code",
     "collapsed": false,
     "input": [
      "md['overview']=md['overview'].fillna(\"nothing\")\n",
      "md['overview'] = md['overview'].astype(str)"
     ],
     "language": "python",
     "metadata": {},
     "outputs": []
    },
    {
     "cell_type": "code",
     "collapsed": false,
     "input": [
      "md['reaction'] = md['overview'].apply(applyReaction)"
     ],
     "language": "python",
     "metadata": {},
     "outputs": []
    },
    {
     "cell_type": "code",
     "collapsed": false,
     "input": [
      "md[['angry','haha','love','sad','wow']] = md['reaction'].apply(pd.Series)"
     ],
     "language": "python",
     "metadata": {},
     "outputs": []
    },
    {
     "cell_type": "code",
     "collapsed": false,
     "input": [
      "md = md.drop('reaction', axis=1)"
     ],
     "language": "python",
     "metadata": {},
     "outputs": []
    },
    {
     "cell_type": "code",
     "collapsed": false,
     "input": [
      "md.columns"
     ],
     "language": "python",
     "metadata": {},
     "outputs": []
    },
    {
     "cell_type": "markdown",
     "metadata": {},
     "source": [
      "### Reaction Analysis"
     ]
    },
    {
     "cell_type": "code",
     "collapsed": false,
     "input": [],
     "language": "python",
     "metadata": {},
     "outputs": []
    },
    {
     "cell_type": "code",
     "collapsed": true,
     "input": [
      "md = md.drop(['title', 'original_title', 'overview',\n",
      "              'tagline', 'original_title','original_language',\n",
      "              'poster_path','homepage','id','imdb_id','popularity',\n",
      "              'vote_count', 'adult', 'status', 'video', 'vote_average','spoken_languages'], axis=1);"
     ],
     "language": "python",
     "metadata": {},
     "outputs": [],
     "prompt_number": 126
    },
    {
     "cell_type": "code",
     "collapsed": true,
     "input": [
      "diff_genres = set()\n",
      "for x in md.genres:\n",
      "    for y in x:\n",
      "        diff_genres.add(y)"
     ],
     "language": "python",
     "metadata": {},
     "outputs": [],
     "prompt_number": 127
    },
    {
     "cell_type": "code",
     "collapsed": false,
     "input": [
      "md.to_csv('withReaction.csv')"
     ],
     "language": "python",
     "metadata": {},
     "outputs": [],
     "prompt_number": 128
    },
    {
     "cell_type": "code",
     "collapsed": true,
     "input": [
      "for genre in diff_genres:\n",
      "    md['is_' + str(genre)] = md['genres'].apply(lambda x: 1 if genre in x else 0)\n",
      "md = md.drop('genres', axis=1)"
     ],
     "language": "python",
     "metadata": {},
     "outputs": [],
     "prompt_number": 129
    },
    {
     "cell_type": "code",
     "collapsed": true,
     "input": [
      "md['production_countries'] = md['production_countries'].apply(lambda x: len(x))\n",
      "md['production_companies'] = md['production_companies'].apply(lambda x: len(x))"
     ],
     "language": "python",
     "metadata": {},
     "outputs": [],
     "prompt_number": 130
    },
    {
     "cell_type": "code",
     "collapsed": true,
     "input": [
      "month_order = ['Jan', 'Feb', 'Mar', 'Apr', 'May', 'Jun', 'Jul', 'Aug', 'Sep', 'Oct', 'Nov', 'Dec']"
     ],
     "language": "python",
     "metadata": {},
     "outputs": [],
     "prompt_number": 131
    },
    {
     "cell_type": "code",
     "collapsed": true,
     "input": [
      "def get_month(x):\n",
      "    try:\n",
      "        return month_order[int(str(x).split('-')[1]) - 1]\n",
      "    except:\n",
      "        return np.nan"
     ],
     "language": "python",
     "metadata": {},
     "outputs": [],
     "prompt_number": 132
    },
    {
     "cell_type": "code",
     "collapsed": true,
     "input": [
      "md['month'] = md['release_date'].apply(get_month)"
     ],
     "language": "python",
     "metadata": {},
     "outputs": [],
     "prompt_number": 133
    },
    {
     "cell_type": "code",
     "collapsed": true,
     "input": [
      "for month in month_order:\n",
      "    md['release_' + str(month)] = md['month'].apply(lambda x: 1 if month in x else 0)\n",
      "md = md.drop(['release_date', 'month'], axis =1);"
     ],
     "language": "python",
     "metadata": {},
     "outputs": [],
     "prompt_number": 134
    },
    {
     "cell_type": "code",
     "collapsed": true,
     "input": [
      "md['cast'] = md['cast'].apply(literal_eval)\n",
      "md['crew'] = md['crew'].apply(literal_eval)\n",
      "md['cast_size'] = md['cast'].apply(lambda x: len(x))\n",
      "md['crew_size'] = md['crew'].apply(lambda x: len(x))\n",
      "md = md.drop(['cast','crew'], axis = 1)"
     ],
     "language": "python",
     "metadata": {},
     "outputs": [],
     "prompt_number": 135
    },
    {
     "cell_type": "code",
     "collapsed": true,
     "input": [
      "#Adding profit column\n",
      "md['profit'] = md['revenue'] >= md['budget']\n",
      "md.loc[:, 'profit'] = md['profit'].astype(int)\n",
      "\n"
     ],
     "language": "python",
     "metadata": {},
     "outputs": [],
     "prompt_number": 136
    },
    {
     "cell_type": "code",
     "collapsed": true,
     "input": [
      "md = md.drop(['revenue'], axis=1)\n",
      "md = md[md['runtime'] != 'NaN']\n",
      "md = md[md['runtime'].notnull()]"
     ],
     "language": "python",
     "metadata": {},
     "outputs": [],
     "prompt_number": 137
    },
    {
     "cell_type": "code",
     "collapsed": true,
     "input": [
      "md[\"belongs_to_collection\"] = md[\"belongs_to_collection\"].astype(int)\n",
      "md[\"runtime\"] = md[\"runtime\"].astype(int)"
     ],
     "language": "python",
     "metadata": {},
     "outputs": [],
     "prompt_number": 138
    },
    {
     "cell_type": "code",
     "collapsed": true,
     "input": [
      "X = md.loc[:, 'belongs_to_collection':'crew_size']"
     ],
     "language": "python",
     "metadata": {},
     "outputs": [],
     "prompt_number": 139
    },
    {
     "cell_type": "code",
     "collapsed": true,
     "input": [
      "y = md['profit']"
     ],
     "language": "python",
     "metadata": {},
     "outputs": [],
     "prompt_number": 140
    },
    {
     "cell_type": "code",
     "collapsed": true,
     "input": [
      "param_test = {\n",
      " 'min_child_weight':[3,4,5,6,7]}\n",
      "\n",
      "ind_params = {'n_estimators': 100, 'seed':0, 'colsample_bytree': 0.8, \n",
      "             'objective': 'binary:logistic','nthread':16, 'max_depth' :5,\n",
      "             'learning_rate':0.1, 'subsample':0.5, 'min_child_weight':3,\n",
      "             'gamma':0}\n",
      "\n",
      "def doGridCV(X,y):\n",
      "    opt_xgb = GridSearchCV(xgb.XGBClassifier(**ind_params), \n",
      "                                param_test, \n",
      "                                scoring = 'accuracy', cv = 3, n_jobs= -1)\n",
      "    opt_xgb.fit(X, y)\n",
      "    print(opt_xgb.best_params_, opt_xgb.best_score_)\n"
     ],
     "language": "python",
     "metadata": {},
     "outputs": [],
     "prompt_number": 141
    },
    {
     "cell_type": "code",
     "collapsed": false,
     "input": [
      "X_train, X_test, y_train, y_test = train_test_split(X,y,test_size=0.25,stratify=y,random_state=0)\n",
      "model = xgb.XGBClassifier(**ind_params)\n",
      "model.fit(X_train,y_train)\n",
      "pred = model.predict(X_test)\n",
      "print(accuracy_score(y_test, pred))\n",
      "sns.set_style('whitegrid')\n",
      "plt.figure(figsize=(10,12))\n",
      "sns.barplot(x=model.feature_importances_, y=X.columns)"
     ],
     "language": "python",
     "metadata": {},
     "outputs": [
      {
       "output_type": "stream",
       "stream": "stdout",
       "text": [
        "0.718424962853\n"
       ]
      },
      {
       "metadata": {},
       "output_type": "pyout",
       "prompt_number": 142,
       "text": [
        "<matplotlib.axes._subplots.AxesSubplot at 0x7fc44fea0d10>"
       ]
      },
      {
       "metadata": {},
       "output_type": "display_data",
       "png": "[encoded data removed]",
       "text": [
        "<matplotlib.figure.Figure at 0x7fc4473b9fd0>"
       ]
      }
     ],
     "prompt_number": 142
    },
    {
     "cell_type": "code",
     "collapsed": false,
     "input": [
      "roc_auc_score(y_test,pred)\n",
      "        "
     ],
     "language": "python",
     "metadata": {},
     "outputs": [
      {
       "metadata": {},
       "output_type": "pyout",
       "prompt_number": 143,
       "text": [
        "0.59849186557415979"
       ]
      }
     ],
     "prompt_number": 143
    },
    {
     "cell_type": "code",
     "collapsed": false,
     "input": [
      "randomguess = np.full((len(pred),1), 1)"
     ],
     "language": "python",
     "metadata": {},
     "outputs": [],
     "prompt_number": 144
    },
    {
     "cell_type": "code",
     "collapsed": false,
     "input": [
      "roc_auc_score(y_test,randomguess)"
     ],
     "language": "python",
     "metadata": {},
     "outputs": [
      {
       "metadata": {},
       "output_type": "pyout",
       "prompt_number": 145,
       "text": [
        "0.5"
       ]
      }
     ],
     "prompt_number": 145
    },
    {
     "cell_type": "code",
     "collapsed": false,
     "input": [],
     "language": "python",
     "metadata": {},
     "outputs": []
    }
   ],
   "metadata": {}
  }
 ]
}