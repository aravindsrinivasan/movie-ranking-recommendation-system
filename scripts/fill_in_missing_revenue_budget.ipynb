{
 "cells": [
  {
   "cell_type": "code",
   "execution_count": 40,
   "metadata": {
    "collapsed": true
   },
   "outputs": [],
   "source": [
    "%matplotlib inline\n",
    "import pandas as pd\n",
    "import numpy as np\n",
    "import matplotlib.pyplot as plt\n",
    "import seaborn as sns\n",
    "from scipy import stats\n",
    "from ast import literal_eval\n",
    "from sklearn.feature_extraction.text import TfidfVectorizer, CountVectorizer\n",
    "from sklearn.metrics.pairwise import linear_kernel, cosine_similarity\n",
    "from nltk.stem.snowball import SnowballStemmer\n",
    "from nltk.stem.wordnet import WordNetLemmatizer\n",
    "from nltk.corpus import wordnet\n",
    "import matplotlib.pyplot as plt\n",
    "import seaborn as sns\n",
    "import xgboost as xgb \n",
    "from sklearn.model_selection import train_test_split, GridSearchCV\n",
    "from sklearn.metrics import accuracy_score\n",
    "import requests\n",
    "import urlparse\n",
    "import os\n",
    "import pickle\n",
    "from bs4 import BeautifulSoup\n",
    "import urllib2\n",
    "import re\n",
    "from datetime import datetime\n",
    "from dateutil.parser import *\n",
    "import warnings; warnings.simplefilter('ignore')"
   ]
  },
  {
   "cell_type": "markdown",
   "metadata": {},
   "source": [
    "# Clean Revenue and Budget"
   ]
  },
  {
   "cell_type": "code",
   "execution_count": 14,
   "metadata": {
    "collapsed": true
   },
   "outputs": [],
   "source": [
    "md = pd. read_csv('../data/movies_metadata.csv')\n",
    "nsfw_data = pd.read_csv('../data/nsfw_score.csv')\n",
    "credits = pd.read_csv('../data/credits.csv')\n",
    "keywords = pd.read_csv('../data/keywords.csv')\n",
    "nsfw_data.columns = ['id', 'nsfw_score']\n",
    "#Converting both fields to the same data type\n",
    "md['id'] = md['id'].astype(str)\n",
    "nsfw_data['id'] = nsfw_data['id'].astype(str)\n",
    "credits['id'] = credits['id'].astype(str)\n",
    "md = md.merge(nsfw_data, on='id', how='left')\n",
    "md = md.merge(credits, on='id', how='left')"
   ]
  },
  {
   "cell_type": "code",
   "execution_count": 15,
   "metadata": {},
   "outputs": [
    {
     "data": {
      "text/plain": [
       "45542"
      ]
     },
     "execution_count": 15,
     "metadata": {},
     "output_type": "execute_result"
    }
   ],
   "source": [
    "md.shape[0]"
   ]
  },
  {
   "cell_type": "code",
   "execution_count": 21,
   "metadata": {},
   "outputs": [],
   "source": [
    "md = (md.drop(['budget'], axis=1)\n",
    "         .join(md['budget'].apply(pd.to_numeric, errors='coerce')))\n",
    "\n"
   ]
  },
  {
   "cell_type": "code",
   "execution_count": 33,
   "metadata": {},
   "outputs": [],
   "source": [
    "md = md.replace(0,'NaN')\n"
   ]
  },
  {
   "cell_type": "code",
   "execution_count": 34,
   "metadata": {},
   "outputs": [],
   "source": [
    "fillInRevenue = md[md['revenue']=='NaN']"
   ]
  },
  {
   "cell_type": "code",
   "execution_count": 50,
   "metadata": {},
   "outputs": [],
   "source": [
    "missingRev = fillInRevenue.imdb_id.astype(str).tolist()"
   ]
  },
  {
   "cell_type": "code",
   "execution_count": 51,
   "metadata": {
    "collapsed": true
   },
   "outputs": [],
   "source": [
    "# Pickling functions\n",
    "def pickle_it(data, filename):\n",
    "    with open(filename, \"wb\") as picklefile:\n",
    "        pickle.dump(data, picklefile)\n",
    "\n",
    "def load_pickle(filename):\n",
    "    with open(filename, \"rb\") as picklefile: \n",
    "        return pickle.load(picklefile)"
   ]
  },
  {
   "cell_type": "code",
   "execution_count": 55,
   "metadata": {},
   "outputs": [],
   "source": [
    "def get_imdb_soup(url):\n",
    "    response = requests.get(url)\n",
    "    page = response.text\n",
    "    return BeautifulSoup(page) #for some reason cannot get attributes (ie.title,a,div) from prettify\n",
    "\n",
    "def get_mv_urls(link_list):\n",
    "    mv_url_list = []\n",
    "    imdb = 'http://www.imdb.com/title/'\n",
    "    for mvid in link_list:\n",
    "        mv_url = imdb+mvid\n",
    "        mv_url_list.append(mv_url)\n",
    "    return mv_url_list\n",
    "    pickle_it(mv_url_list,'mv_url_list.pkl')\n",
    "    \n"
   ]
  },
  {
   "cell_type": "code",
   "execution_count": 78,
   "metadata": {},
   "outputs": [],
   "source": [
    "def get_imdb_header(imdb_soup):\n",
    "    imdb_header = imdb_soup.title\n",
    "    return imdb_header\n",
    "\n",
    "\n",
    "def get_imdb_title(imdb_header):\n",
    "    header = imdb_header.text\n",
    "    imdb_title = header.split('(')[0]\n",
    "    try:\n",
    "        return imdb_title\n",
    "    except(ValueError,RuntimeError, TypeError, NameError):\n",
    "        return None\n",
    "def get_imdb_year(imdb_header):\n",
    "    header = imdb_header.text\n",
    "    imdb_year = header.split('(')[1]\n",
    "    imdb_year\n",
    "    year = re.findall(r'\\d+', imdb_year)\n",
    "    try:\n",
    "        imdb_year = int(year[0])\n",
    "        return imdb_year\n",
    "    except(ValueError, RuntimeError, TypeError, NameError, IndexError):\n",
    "        return None\n",
    "\n",
    "def get_imdb_budget(soup):\n",
    "        divs = [x.text for x in soup.find_all('div')]\n",
    "        try:    \n",
    "            for s in divs:\n",
    "                start = 'Budget:'\n",
    "                end = ' '\n",
    "                result = re.findall('%s(.*)%s' % (start, end), s)\n",
    "                for n in result:\n",
    "                    regex = re.compile(r'\\d+(?:,\\d+)*')\n",
    "                    bgt = re.findall(regex,n)\n",
    "                    budget =[x.replace(',','') for x in bgt]\n",
    "                    budint =[int(b) for b in budget]\n",
    "                return budint[0]\n",
    "        except(ValueError, RuntimeError, TypeError, NameError):\n",
    "            return None\n",
    "        \n",
    "def get_imdb_gross(soup):\n",
    "        divs = [x.text for x in soup.find_all('div')]\n",
    "        for s in divs:\n",
    "            start = 'Gross:'\n",
    "            end = ' '\n",
    "            result = re.findall('%s(.*)%s' % (start, end), s)\n",
    "            for n in result:\n",
    "                regex = re.compile(r'\\d+(?:,\\d+)*')\n",
    "                grs = re.findall(regex,n)\n",
    "                grss =[x.replace(',','') for x in grs]\n",
    "                gross =[int(b) for b in grss]\n",
    "        try:\n",
    "            return gross[0]\n",
    "        except:\n",
    "            return None\n",
    "                    \n"
   ]
  },
  {
   "cell_type": "code",
   "execution_count": 79,
   "metadata": {},
   "outputs": [],
   "source": [
    "fullmovieList = get_mv_urls(missingRev)    "
   ]
  },
  {
   "cell_type": "code",
   "execution_count": 80,
   "metadata": {},
   "outputs": [
    {
     "data": {
      "text/plain": [
       "38108"
      ]
     },
     "execution_count": 80,
     "metadata": {},
     "output_type": "execute_result"
    }
   ],
   "source": [
    "len(fullmovieList)"
   ]
  },
  {
   "cell_type": "code",
   "execution_count": 85,
   "metadata": {},
   "outputs": [
    {
     "name": "stdout",
     "output_type": "stream",
     "text": [
      "<title>The Feminine Touch (1941) - IMDb</title>\n",
      "The Feminine Touch \n",
      "1941\n",
      "None\n",
      "None\n"
     ]
    }
   ],
   "source": [
    "mv_soup = get_imdb_soup(fullmovieList[21000])\n",
    "mv_header = get_imdb_header(mv_soup)\n",
    "mv_title = get_imdb_title(mv_header)\n",
    "mv_year = get_imdb_year(mv_header)\n",
    "mv_budget = get_imdb_budget(mv_soup)\n",
    "mv_gross = get_imdb_gross(mv_soup)\n",
    "\n",
    "print mv_header\n",
    "print mv_title\n",
    "print mv_year\n",
    "print mv_budget\n",
    "print mv_gross\n"
   ]
  },
  {
   "cell_type": "code",
   "execution_count": 86,
   "metadata": {
    "collapsed": true
   },
   "outputs": [],
   "source": [
    "def get_mv_data(mv_id_list):\n",
    "    mv_data_list = []\n",
    "    count = 0\n",
    "    headlabels = ['Title', 'Year', 'Budget','Gross']\n",
    "    for mv_urlID in mv_id_list: #iterates through movie id urls\n",
    "        mv_soup = get_imdb_soup(mv_urlID)\n",
    "        mv_header = get_imdb_header(mv_soup)\n",
    "        mv_title = get_imdb_title(mv_header)\n",
    "        mv_year = get_imdb_year(mv_header)\n",
    "        mv_budget = get_imdb_budget(mv_soup)\n",
    "        mv_gross = get_imdb_gross(mv_soup)\n",
    "        mv_data_dict = dict(zip(headlabels, [mv_title, mv_year, mv_budget, mv_gross]))\n",
    "        count+=1\n",
    "        mv_data_list.append(mv_data_dict)\n",
    "    return mv_data_list"
   ]
  },
  {
   "cell_type": "code",
   "execution_count": null,
   "metadata": {},
   "outputs": [],
   "source": [
    "mv_data = get_mv_data(fullmovieList[:500])"
   ]
  },
  {
   "cell_type": "code",
   "execution_count": null,
   "metadata": {
    "collapsed": true
   },
   "outputs": [],
   "source": [
    "print mv_data"
   ]
  },
  {
   "cell_type": "code",
   "execution_count": null,
   "metadata": {
    "collapsed": true
   },
   "outputs": [],
   "source": [
    "pickle_it(mv_url_list,'mv_data_list.pkl')"
   ]
  }
 ],
 "metadata": {
  "kernelspec": {
   "display_name": "Python 2",
   "language": "python",
   "name": "python2"
  },
  "language_info": {
   "codemirror_mode": {
    "name": "ipython",
    "version": 2
   },
   "file_extension": ".py",
   "mimetype": "text/x-python",
   "name": "python",
   "nbconvert_exporter": "python",
   "pygments_lexer": "ipython2",
   "version": "2.7.13"
  }
 },
 "nbformat": 4,
 "nbformat_minor": 2
}
