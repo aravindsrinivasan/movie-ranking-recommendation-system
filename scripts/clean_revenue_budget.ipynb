{
 "cells": [
  {
   "cell_type": "code",
   "execution_count": 1,
   "metadata": {
    "collapsed": true
   },
   "outputs": [],
   "source": [
    "%matplotlib inline\n",
    "import pandas as pd\n",
    "import numpy as np\n",
    "import matplotlib.pyplot as plt\n",
    "import seaborn as sns\n",
    "from scipy import stats\n",
    "from ast import literal_eval\n",
    "from sklearn.feature_extraction.text import TfidfVectorizer, CountVectorizer\n",
    "from sklearn.metrics.pairwise import linear_kernel, cosine_similarity\n",
    "from nltk.stem.snowball import SnowballStemmer\n",
    "from nltk.stem.wordnet import WordNetLemmatizer\n",
    "from nltk.corpus import wordnet\n",
    "\n",
    "import warnings; warnings.simplefilter('ignore')"
   ]
  },
  {
   "cell_type": "markdown",
   "metadata": {},
   "source": [
    "# Clean Revenue and Budget"
   ]
  },
  {
   "cell_type": "code",
   "execution_count": 2,
   "metadata": {
    "collapsed": true
   },
   "outputs": [],
   "source": [
    "md = pd. read_csv('../data/movies_metadata.csv')"
   ]
  },
  {
   "cell_type": "code",
   "execution_count": 3,
   "metadata": {
    "collapsed": true
   },
   "outputs": [],
   "source": [
    "md = (md.drop(['budget'], axis=1)\n",
    "         .join(md['budget'].apply(pd.to_numeric, errors='coerce')))\n",
    "\n",
    "md = md[md['budget'].notnull()]"
   ]
  },
  {
   "cell_type": "code",
   "execution_count": 4,
   "metadata": {
    "collapsed": true
   },
   "outputs": [],
   "source": [
    "md = md.replace(0,'NaN')\n",
    "md = md[md.budget.notnull()]\n",
    "md = md[md.budget != 'NaN']\n",
    "md.loc[:, 'budget'] = pd.to_numeric(md['budget'])\n",
    "md = md[md['budget'] != 0]\n",
    "md = md[md['revenue'].notnull()]\n",
    "md = md[md['revenue'] != 'NaN']"
   ]
  },
  {
   "cell_type": "markdown",
   "metadata": {},
   "source": [
    "# Clean Genres and Production Companies"
   ]
  },
  {
   "cell_type": "code",
   "execution_count": 5,
   "metadata": {
    "collapsed": true
   },
   "outputs": [],
   "source": [
    "md['genres'] = md['genres'].fillna('[]').apply(literal_eval).apply(lambda x: [i['name'] for i in x] if isinstance(x, list) else [])"
   ]
  },
  {
   "cell_type": "code",
   "execution_count": 6,
   "metadata": {
    "collapsed": true
   },
   "outputs": [],
   "source": [
    "md['production_companies'] = md['production_companies'].fillna('[]').apply(literal_eval).apply(lambda x: [i['name'] for i in x] if isinstance(x, list) else [])"
   ]
  },
  {
   "cell_type": "markdown",
   "metadata": {},
   "source": [
    "## Add Language Features as Integer"
   ]
  },
  {
   "cell_type": "code",
   "execution_count": 7,
   "metadata": {
    "collapsed": true
   },
   "outputs": [],
   "source": [
    "md[\"Eng\"] = md[\"original_language\"] == 'en'\n",
    "md[\"Eng\"] = md[\"Eng\"].astype(int)"
   ]
  },
  {
   "cell_type": "code",
   "execution_count": 8,
   "metadata": {},
   "outputs": [
    {
     "data": {
      "text/html": [
       "<div>\n",
       "<style>\n",
       "    .dataframe thead tr:only-child th {\n",
       "        text-align: right;\n",
       "    }\n",
       "\n",
       "    .dataframe thead th {\n",
       "        text-align: left;\n",
       "    }\n",
       "\n",
       "    .dataframe tbody tr th {\n",
       "        vertical-align: top;\n",
       "    }\n",
       "</style>\n",
       "<table border=\"1\" class=\"dataframe\">\n",
       "  <thead>\n",
       "    <tr style=\"text-align: right;\">\n",
       "      <th></th>\n",
       "      <th>adult</th>\n",
       "      <th>belongs_to_collection</th>\n",
       "      <th>genres</th>\n",
       "      <th>homepage</th>\n",
       "      <th>id</th>\n",
       "      <th>imdb_id</th>\n",
       "      <th>original_language</th>\n",
       "      <th>original_title</th>\n",
       "      <th>overview</th>\n",
       "      <th>popularity</th>\n",
       "      <th>...</th>\n",
       "      <th>runtime</th>\n",
       "      <th>spoken_languages</th>\n",
       "      <th>status</th>\n",
       "      <th>tagline</th>\n",
       "      <th>title</th>\n",
       "      <th>video</th>\n",
       "      <th>vote_average</th>\n",
       "      <th>vote_count</th>\n",
       "      <th>budget</th>\n",
       "      <th>Eng</th>\n",
       "    </tr>\n",
       "  </thead>\n",
       "  <tbody>\n",
       "    <tr>\n",
       "      <th>0</th>\n",
       "      <td>False</td>\n",
       "      <td>{'id': 10194, 'name': 'Toy Story Collection', ...</td>\n",
       "      <td>[Animation, Comedy, Family]</td>\n",
       "      <td>http://toystory.disney.com/toy-story</td>\n",
       "      <td>862</td>\n",
       "      <td>tt0114709</td>\n",
       "      <td>en</td>\n",
       "      <td>Toy Story</td>\n",
       "      <td>Led by Woody, Andy's toys live happily in his ...</td>\n",
       "      <td>21.9469</td>\n",
       "      <td>...</td>\n",
       "      <td>81</td>\n",
       "      <td>[{'iso_639_1': 'en', 'name': 'English'}]</td>\n",
       "      <td>Released</td>\n",
       "      <td>NaN</td>\n",
       "      <td>Toy Story</td>\n",
       "      <td>NaN</td>\n",
       "      <td>7.7</td>\n",
       "      <td>5415</td>\n",
       "      <td>30000000.0</td>\n",
       "      <td>1</td>\n",
       "    </tr>\n",
       "    <tr>\n",
       "      <th>1</th>\n",
       "      <td>False</td>\n",
       "      <td>NaN</td>\n",
       "      <td>[Adventure, Fantasy, Family]</td>\n",
       "      <td>NaN</td>\n",
       "      <td>8844</td>\n",
       "      <td>tt0113497</td>\n",
       "      <td>en</td>\n",
       "      <td>Jumanji</td>\n",
       "      <td>When siblings Judy and Peter discover an encha...</td>\n",
       "      <td>17.0155</td>\n",
       "      <td>...</td>\n",
       "      <td>104</td>\n",
       "      <td>[{'iso_639_1': 'en', 'name': 'English'}, {'iso...</td>\n",
       "      <td>Released</td>\n",
       "      <td>Roll the dice and unleash the excitement!</td>\n",
       "      <td>Jumanji</td>\n",
       "      <td>NaN</td>\n",
       "      <td>6.9</td>\n",
       "      <td>2413</td>\n",
       "      <td>65000000.0</td>\n",
       "      <td>1</td>\n",
       "    </tr>\n",
       "    <tr>\n",
       "      <th>3</th>\n",
       "      <td>False</td>\n",
       "      <td>NaN</td>\n",
       "      <td>[Comedy, Drama, Romance]</td>\n",
       "      <td>NaN</td>\n",
       "      <td>31357</td>\n",
       "      <td>tt0114885</td>\n",
       "      <td>en</td>\n",
       "      <td>Waiting to Exhale</td>\n",
       "      <td>Cheated on, mistreated and stepped on, the wom...</td>\n",
       "      <td>3.85949</td>\n",
       "      <td>...</td>\n",
       "      <td>127</td>\n",
       "      <td>[{'iso_639_1': 'en', 'name': 'English'}]</td>\n",
       "      <td>Released</td>\n",
       "      <td>Friends are the people who let you be yourself...</td>\n",
       "      <td>Waiting to Exhale</td>\n",
       "      <td>NaN</td>\n",
       "      <td>6.1</td>\n",
       "      <td>34</td>\n",
       "      <td>16000000.0</td>\n",
       "      <td>1</td>\n",
       "    </tr>\n",
       "    <tr>\n",
       "      <th>5</th>\n",
       "      <td>False</td>\n",
       "      <td>NaN</td>\n",
       "      <td>[Action, Crime, Drama, Thriller]</td>\n",
       "      <td>NaN</td>\n",
       "      <td>949</td>\n",
       "      <td>tt0113277</td>\n",
       "      <td>en</td>\n",
       "      <td>Heat</td>\n",
       "      <td>Obsessive master thief, Neil McCauley leads a ...</td>\n",
       "      <td>17.9249</td>\n",
       "      <td>...</td>\n",
       "      <td>170</td>\n",
       "      <td>[{'iso_639_1': 'en', 'name': 'English'}, {'iso...</td>\n",
       "      <td>Released</td>\n",
       "      <td>A Los Angeles Crime Saga</td>\n",
       "      <td>Heat</td>\n",
       "      <td>NaN</td>\n",
       "      <td>7.7</td>\n",
       "      <td>1886</td>\n",
       "      <td>60000000.0</td>\n",
       "      <td>1</td>\n",
       "    </tr>\n",
       "    <tr>\n",
       "      <th>8</th>\n",
       "      <td>False</td>\n",
       "      <td>NaN</td>\n",
       "      <td>[Action, Adventure, Thriller]</td>\n",
       "      <td>NaN</td>\n",
       "      <td>9091</td>\n",
       "      <td>tt0114576</td>\n",
       "      <td>en</td>\n",
       "      <td>Sudden Death</td>\n",
       "      <td>International action superstar Jean Claude Van...</td>\n",
       "      <td>5.23158</td>\n",
       "      <td>...</td>\n",
       "      <td>106</td>\n",
       "      <td>[{'iso_639_1': 'en', 'name': 'English'}]</td>\n",
       "      <td>Released</td>\n",
       "      <td>Terror goes into overtime.</td>\n",
       "      <td>Sudden Death</td>\n",
       "      <td>NaN</td>\n",
       "      <td>5.5</td>\n",
       "      <td>174</td>\n",
       "      <td>35000000.0</td>\n",
       "      <td>1</td>\n",
       "    </tr>\n",
       "  </tbody>\n",
       "</table>\n",
       "<p>5 rows × 25 columns</p>\n",
       "</div>"
      ],
      "text/plain": [
       "   adult                              belongs_to_collection  \\\n",
       "0  False  {'id': 10194, 'name': 'Toy Story Collection', ...   \n",
       "1  False                                                NaN   \n",
       "3  False                                                NaN   \n",
       "5  False                                                NaN   \n",
       "8  False                                                NaN   \n",
       "\n",
       "                             genres                              homepage  \\\n",
       "0       [Animation, Comedy, Family]  http://toystory.disney.com/toy-story   \n",
       "1      [Adventure, Fantasy, Family]                                   NaN   \n",
       "3          [Comedy, Drama, Romance]                                   NaN   \n",
       "5  [Action, Crime, Drama, Thriller]                                   NaN   \n",
       "8     [Action, Adventure, Thriller]                                   NaN   \n",
       "\n",
       "      id    imdb_id original_language     original_title  \\\n",
       "0    862  tt0114709                en          Toy Story   \n",
       "1   8844  tt0113497                en            Jumanji   \n",
       "3  31357  tt0114885                en  Waiting to Exhale   \n",
       "5    949  tt0113277                en               Heat   \n",
       "8   9091  tt0114576                en       Sudden Death   \n",
       "\n",
       "                                            overview popularity ... runtime  \\\n",
       "0  Led by Woody, Andy's toys live happily in his ...    21.9469 ...      81   \n",
       "1  When siblings Judy and Peter discover an encha...    17.0155 ...     104   \n",
       "3  Cheated on, mistreated and stepped on, the wom...    3.85949 ...     127   \n",
       "5  Obsessive master thief, Neil McCauley leads a ...    17.9249 ...     170   \n",
       "8  International action superstar Jean Claude Van...    5.23158 ...     106   \n",
       "\n",
       "                                    spoken_languages    status  \\\n",
       "0           [{'iso_639_1': 'en', 'name': 'English'}]  Released   \n",
       "1  [{'iso_639_1': 'en', 'name': 'English'}, {'iso...  Released   \n",
       "3           [{'iso_639_1': 'en', 'name': 'English'}]  Released   \n",
       "5  [{'iso_639_1': 'en', 'name': 'English'}, {'iso...  Released   \n",
       "8           [{'iso_639_1': 'en', 'name': 'English'}]  Released   \n",
       "\n",
       "                                             tagline              title video  \\\n",
       "0                                                NaN          Toy Story   NaN   \n",
       "1          Roll the dice and unleash the excitement!            Jumanji   NaN   \n",
       "3  Friends are the people who let you be yourself...  Waiting to Exhale   NaN   \n",
       "5                           A Los Angeles Crime Saga               Heat   NaN   \n",
       "8                         Terror goes into overtime.       Sudden Death   NaN   \n",
       "\n",
       "  vote_average vote_count      budget Eng  \n",
       "0          7.7       5415  30000000.0   1  \n",
       "1          6.9       2413  65000000.0   1  \n",
       "3          6.1         34  16000000.0   1  \n",
       "5          7.7       1886  60000000.0   1  \n",
       "8          5.5        174  35000000.0   1  \n",
       "\n",
       "[5 rows x 25 columns]"
      ]
     },
     "execution_count": 8,
     "metadata": {},
     "output_type": "execute_result"
    }
   ],
   "source": [
    "md.head()"
   ]
  },
  {
   "cell_type": "code",
   "execution_count": 9,
   "metadata": {},
   "outputs": [
    {
     "data": {
      "text/plain": [
       "(5381, 25)"
      ]
     },
     "execution_count": 9,
     "metadata": {},
     "output_type": "execute_result"
    }
   ],
   "source": [
    "md.shape"
   ]
  },
  {
   "cell_type": "code",
   "execution_count": 10,
   "metadata": {
    "collapsed": true
   },
   "outputs": [],
   "source": [
    "md.to_csv('metadata_only_budget.csv')"
   ]
  },
  {
   "cell_type": "code",
   "execution_count": 10,
   "metadata": {},
   "outputs": [
    {
     "data": {
      "text/plain": [
       "Index([u'adult', u'belongs_to_collection', u'genres', u'homepage', u'id',\n",
       "       u'imdb_id', u'original_language', u'original_title', u'overview',\n",
       "       u'popularity', u'poster_path', u'production_companies',\n",
       "       u'production_countries', u'release_date', u'revenue', u'runtime',\n",
       "       u'spoken_languages', u'status', u'tagline', u'title', u'video',\n",
       "       u'vote_average', u'vote_count', u'budget', u'Eng'],\n",
       "      dtype='object')"
      ]
     },
     "execution_count": 10,
     "metadata": {},
     "output_type": "execute_result"
    }
   ],
   "source": [
    "md.columns"
   ]
  },
  {
   "cell_type": "code",
   "execution_count": null,
   "metadata": {
    "collapsed": true
   },
   "outputs": [],
   "source": []
  }
 ],
 "metadata": {
  "kernelspec": {
   "display_name": "Python 2",
   "language": "python",
   "name": "python2"
  },
  "language_info": {
   "codemirror_mode": {
    "name": "ipython",
    "version": 2
   },
   "file_extension": ".py",
   "mimetype": "text/x-python",
   "name": "python",
   "nbconvert_exporter": "python",
   "pygments_lexer": "ipython2",
   "version": "2.7.13"
  }
 },
 "nbformat": 4,
 "nbformat_minor": 2
}
